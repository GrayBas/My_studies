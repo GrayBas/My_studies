{
 "cells": [
  {
   "cell_type": "code",
   "execution_count": 1,
   "id": "ea0c7c2e-79f0-422b-b159-4f891e367435",
   "metadata": {},
   "outputs": [
    {
     "name": "stdout",
     "output_type": "stream",
     "text": [
      "Тестируем:  сортировка списка А вставками \n",
      "testcase #1: Ok\n",
      "testcase #2: Ok\n",
      "testcase #3: Ok\n",
      "Тестируем:  сортировка списка А выбором \n",
      "testcase #1: Ok\n",
      "testcase #2: Ok\n",
      "testcase #3: Ok\n",
      "Тестируем:  сортировка списка А методом пузырька \n",
      "testcase #1: Ok\n",
      "testcase #2: Ok\n",
      "testcase #3: Ok\n"
     ]
    }
   ],
   "source": [
    "def insert_sort(A: list):\n",
    "    \"\"\" сортировка списка А вставками \"\"\"\n",
    "    N = len(A)\n",
    "    for top in range(1, N):\n",
    "        k = top\n",
    "        while k > 0 and A[k-1] > A[k]:\n",
    "            A[k], A[k-1] = A[k-1], A[k]\n",
    "            k -= 1\n",
    "\n",
    "def choise_sort(A: list):\n",
    "    \"\"\" сортировка списка А выбором \"\"\"\n",
    "    N = len(A)\n",
    "    for pos in range(0, N-1):\n",
    "        for k in range(pos+1, N):\n",
    "            if A[k] < A[pos]:\n",
    "                A[k], A[pos] = A[pos], A[k]\n",
    "\n",
    "def bubble_sort(A: list):\n",
    "    \"\"\" сортировка списка А методом пузырька \"\"\"\n",
    "    N = len(A)\n",
    "    for bypass in range(1, N):\n",
    "        for k in range(0, N-bypass):\n",
    "            if A[k] > A[k+1]:\n",
    "                A[k], A[k+1] = A[k+1], A[k]\n",
    "\n",
    "def test_sort(sort_algorithm):\n",
    "    print(\"Тестируем: \", sort_algorithm.__doc__)\n",
    "    print(\"testcase #1: \", end=\"\")\n",
    "    A = [4, 2, 5, 1, 3]\n",
    "    A_sorted = [1, 2, 3, 4, 5]\n",
    "    sort_algorithm(A)\n",
    "    print(\"Ok\" if A == A_sorted else \"Fail\")\n",
    "\n",
    "    print(\"testcase #2: \", end=\"\")\n",
    "    A = list(range(10, 20)) + list(range(0, 10))\n",
    "    A_sorted = list(range(20))\n",
    "    sort_algorithm(A)\n",
    "    print(\"Ok\" if A == A_sorted else \"Fail\")\n",
    "\n",
    "    print(\"testcase #3: \", end=\"\")\n",
    "    A = [4, 2, 4, 2, 1]\n",
    "    A_sorted = [1, 2, 2, 4, 4]\n",
    "    sort_algorithm(A)\n",
    "    print(\"Ok\" if A == A_sorted else \"Fail\")\n",
    "\n",
    "\n",
    "if __name__ == \"__main__\":\n",
    "    test_sort(insert_sort)\n",
    "    test_sort(choise_sort)\n",
    "    test_sort(bubble_sort)\n",
    "    \n",
    "\n",
    "    "
   ]
  },
  {
   "cell_type": "code",
   "execution_count": 13,
   "id": "ae23ee96-7f0d-4096-8854-035ea05ae87e",
   "metadata": {},
   "outputs": [
    {
     "name": "stdout",
     "output_type": "stream",
     "text": [
      "Время создания обычного словаря: 0.0013647079467773438\n",
      "Время создания словаря с плохими хешами: 10.104000568389893\n",
      "Время поиска в словаре обычными хешами: 0.0030438899993896484\n",
      "Время поиска в словаре с плохими хешами: 9.88980746269226\n"
     ]
    }
   ],
   "source": [
    "import time\n",
    "\n",
    "class BadHash:\n",
    "    def __init__(self, value):\n",
    "        self.value = value\n",
    "\n",
    "    def __hash__(self):\n",
    "        return 42  # Все объекты имеют одинаковый хеш\n",
    "\n",
    "    def __eq__(self, other):\n",
    "        return self.value == other.value  # Обычное сравнение\n",
    "\n",
    "# Измеряем время для обычного словаря\n",
    "start = time.time()\n",
    "normal_dict = {i: f\"Value {i}\" for i in range(10000)}\n",
    "print(\"Время создания обычного словаря:\", time.time() - start)\n",
    "\n",
    "# Измеряем время для словаря с плохими хешами\n",
    "start = time.time()\n",
    "bad_dict = {}\n",
    "for i in range(10000):\n",
    "    bad_dict[BadHash(i)] = f\"Value {i}\"\n",
    "print(\"Время создания словаря с плохими хешами:\", time.time() - start)\n",
    "\n",
    "# Поиск элемента в словаре с обычными хешами\n",
    "start = time.time()\n",
    "for i in range(10000):\n",
    "    _ = normal_dict[5000]  # Ожидаемая O(1)\n",
    "print(\"Время поиска в словаре обычными хешами:\", time.time() - start)\n",
    "\n",
    "# Поиск элемента в словаре с плохими хешами\n",
    "start = time.time()\n",
    "for i in range(10000):\n",
    "    _ = bad_dict[BadHash(5000)]  # Ожидаемая O(n)\n",
    "print(\"Время поиска в словаре с плохими хешами:\", time.time() - start)"
   ]
  },
  {
   "cell_type": "code",
   "execution_count": 1,
   "id": "3bcd6bfa-1077-41ca-a455-614772a05f34",
   "metadata": {},
   "outputs": [
    {
     "data": {
      "text/plain": [
       "4294967296"
      ]
     },
     "execution_count": 1,
     "metadata": {},
     "output_type": "execute_result"
    }
   ],
   "source": [
    "2**32"
   ]
  },
  {
   "cell_type": "code",
   "execution_count": null,
   "id": "b7e5d617-79e8-45ee-9f2a-3d8e5e64a537",
   "metadata": {},
   "outputs": [],
   "source": []
  }
 ],
 "metadata": {
  "kernelspec": {
   "display_name": "Python 3",
   "language": "python",
   "name": "python3"
  },
  "language_info": {
   "codemirror_mode": {
    "name": "ipython",
    "version": 3
   },
   "file_extension": ".py",
   "mimetype": "text/x-python",
   "name": "python",
   "nbconvert_exporter": "python",
   "pygments_lexer": "ipython3",
   "version": "3.13.3"
  }
 },
 "nbformat": 4,
 "nbformat_minor": 5
}
